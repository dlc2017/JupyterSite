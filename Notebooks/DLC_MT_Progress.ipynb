{
 "cells": [
  {
   "cell_type": "markdown",
   "metadata": {
    "slideshow": {
     "slide_type": "slide"
    }
   },
   "source": [
    "# Neural Machine Translation for IPO Documents\n",
    "### LUO Linkai\n",
    "### *Deep Learning Research & Application Centre*\n",
    "### August 2017\n",
    "\n",
    "<script>\n",
    "    var code_show=true; //true -> hide code at first\n",
    "\n",
    "    function code_toggle() {\n",
    "        $('div.prompt').hide(); // always hide prompt\n",
    "\n",
    "        if (code_show){\n",
    "            $('div.input').hide();\n",
    "        } else {\n",
    "            $('div.input').show();\n",
    "        }\n",
    "        code_show = !code_show\n",
    "    }\n",
    "    $( document ).ready(code_toggle);\n",
    "</script>"
   ]
  },
  {
   "cell_type": "code",
   "execution_count": 7,
   "metadata": {
    "collapsed": true,
    "hidePrompt": false,
    "slideshow": {
     "slide_type": "skip"
    }
   },
   "outputs": [],
   "source": [
    "def load_data(file, ids):\n",
    "    with open(file, 'r') as f:\n",
    "        data = f.read().split('\\n')\n",
    "    if len(ids) == 2 and ids[0] < ids[1]:\n",
    "        return data[ids[0]:ids[1]]\n",
    "    else:\n",
    "        #return [data.split('\\n')[i] for i in ids]\n",
    "        return [e for i, e in enumerate(data) if i in ids]\n",
    "width = 80"
   ]
  },
  {
   "cell_type": "markdown",
   "metadata": {
    "slideshow": {
     "slide_type": "slide"
    }
   },
   "source": [
    "# Our Goal\n",
    "* <font color='blue'>Deep-learning-initiated</font> neural machine translation (NMT) system for IPO documents"
   ]
  },
  {
   "cell_type": "markdown",
   "metadata": {
    "slideshow": {
     "slide_type": "subslide"
    }
   },
   "source": [
    "* Fully automatic high-quality MT is still <font color='red'>a distant goal </font>\n",
    "* Good <font color='red'> assistant </font> to human translator\n",
    "* <font color='red'> Better </font> (compoarable) quality than Google translate\n",
    "* Full <font color='red'> control </font> of files"
   ]
  },
  {
   "cell_type": "markdown",
   "metadata": {
    "slideshow": {
     "slide_type": "slide"
    }
   },
   "source": [
    "# Google Translate?"
   ]
  },
  {
   "cell_type": "code",
   "execution_count": 26,
   "metadata": {
    "hideCode": false,
    "hidePrompt": false,
    "slideshow": {
     "slide_type": "subslide"
    }
   },
   "outputs": [
    {
     "name": "stdout",
     "output_type": "stream",
     "text": [
      "Source   : our company has no outstanding convertible debt securities as of the latest practicable date.\n",
      "Google   : 我們公司沒有尚未轉換債券作為最後實際可行日期。\n",
      "Reference: 截至最後實際可行日期，本公司並無任何尚未行使的可換股債務證券。\n",
      "\n",
      "------------------------------------------------------------\n",
      "Source   : our company has no outstanding convertible debt securities as of the latest practicable date .\n",
      "Google   : 此外，我們不能向你保證，其他人不會通過獨立發展或其他法律手段獲得這些商業秘密的知識。\n",
      "Reference: 截至最後實際可行日期，本公司並無任何尚未行使的可換股債務證券。\n",
      "\n",
      "------------------------------------------------------------\n",
      "Source   : in addition , we can not assure you that others will not obtain knowledge of these trade secrets through independent development or other legal means .\n",
      "Google   : 截至最近切實可行日期，日本法定股本為億萬股，分為200股。\n",
      "Reference: 此外，我們無法向閣下保證他人不會透過自主開發或以其他合法途徑獲悉該等商業機密。\n",
      "\n",
      "------------------------------------------------------------\n"
     ]
    }
   ],
   "source": [
    "g_ids = [11, 502, 200]\n",
    "source1 = load_data('./data/test.src', g_ids)\n",
    "reference1 = load_data('./data/test.trg', g_ids)\n",
    "target1 = ['此外，我們不能向你保證，其他人不會通過獨立發展或其他法律手段獲得這些商業秘密的知識。',\n",
    "'截至最近切實可行日期，日本法定股本為億萬股，分為200股。']\n",
    "\n",
    "#for src in source1:\n",
    "#       print('{}\\n'.format(src.replace('@@ ', '')))\n",
    "#print('-'*100)\n",
    "source = ['松下問童子','our company has no outstanding convertible debt securities as of the latest practicable date.']+source1\n",
    "target = ['Matsushita asked the boy', '我們公司沒有尚未轉換債券作為最後實際可行日期。']+target1\n",
    "reference = ['Beneath the pine, I asked of the child.', '截至最後實際可行日期，本公司並無任何尚未行使的可換股債務證券。']+reference1\n",
    "source = source[1:]\n",
    "target = target[1:]\n",
    "reference = reference[1:]\n",
    "for src, tgt, ref in zip(source, target, reference):\n",
    "    print('Source   : {}\\nGoogle   : {}\\nReference: {}\\n'.format(src.replace('@@ ', ''), tgt, ref.replace('@@ ', '').replace(' ', '')))\n",
    "    print('-'*width)"
   ]
  },
  {
   "cell_type": "markdown",
   "metadata": {
    "slideshow": {
     "slide_type": "slide"
    }
   },
   "source": [
    "# Neural Machine Translation System\n",
    "* **Data**: ~2 million paired sentences\n",
    "    * train/dev/test: 80%/10%/10%\n",
    "* **Parameters**: ~1.2 G\n",
    "* **Equipment**: CentOS, 1T RAM, Intel(R) Xeon(R) 2.10GHz, NVIDIA Tesla P100 GPU --> **6.0x** faster !\n",
    "* **Training time**: ~14 days (Two ideas tested)\n",
    "* **Decode (translate) time**: ~8s/80 sentences (without GPU), ~2s/80 sentences (with GPU)\n",
    "* *Applied Deep Learning is an iterative process !*"
   ]
  },
  {
   "cell_type": "markdown",
   "metadata": {
    "slideshow": {
     "slide_type": "subslide"
    }
   },
   "source": [
    "<div id=\"image-table\">\n",
    "    <table cellspacing=\"10\">\n",
    "        <tr>\n",
    "            <td style=\"padding:5px\">\n",
    "                <img width=\"400\", src=\"./img/nmt_iterative.png\">\n",
    "              </td>\n",
    "            <td style=\"padding:5px\">\n",
    "                <img width=\"400\", src=\"./img/BLEU_2017_8_18.png\">\n",
    "             </td>\n",
    "        </tr>\n",
    "    </table>\n",
    "</div>\n",
    "<p> **Nerural Machine Translation Development is an iterative process** </p>"
   ]
  },
  {
   "cell_type": "markdown",
   "metadata": {
    "slideshow": {
     "slide_type": "slide"
    }
   },
   "source": [
    "# Some translation examples"
   ]
  },
  {
   "cell_type": "code",
   "execution_count": 4,
   "metadata": {
    "hideCode": false,
    "hidePrompt": false,
    "slideshow": {
     "slide_type": "subslide"
    }
   },
   "outputs": [
    {
     "name": "stdout",
     "output_type": "stream",
     "text": [
      "Source   : our company has no outstanding convertible debt securities as of the latest practicable date .\n",
      "Translate: 截至最後實際可行日期，本公司並無已發行的可換股債務證券。\n",
      "Reference: 截至最後實際可行日期，本公司並無任何尚未行使的可換股債務證券。\n",
      "Google   : 本公司於最近實際可行日期無債務證券。\n",
      "--------------------------------------------------------------------------------\n",
      "Source   : furthermore , mlr issued the notice on strengthening administration of construction land and promoting the utilisation of approved land without utilisation in august 2009 , which reiterates the current rules regarding idle land .\n",
      "Translate: 此外，國土資源部於二零零九年八月發佈《關於加強建設用地管理有關問題的通知》，通知重申閒置土地的現行規則。\n",
      "Reference: 此外，國土資源部於2009年8月發出《關於嚴格建設用地管理促進批而未用土地利用的通知》，重申了對閒置土地的現行規則。\n",
      "Google   : 此外，還發布了2009年8月加強施工用地管理和促進利用未經批准使用的通知，重申了現行的閒置用地規定。\n",
      "--------------------------------------------------------------------------------\n",
      "Source   : the notice must specify the time and place of the meeting and , in the case of special business , the general nature of that business .\n",
      "Translate: 通告須註明舉行會議的時間及地點，倘有特別事項，則須註明有關事項的一般性質。\n",
      "Reference: 通告須註明舉行會議之時間及地點，倘有特別事項，則須註明有關事項之一般性質。\n",
      "Google   : 該通知必須指明會議的時間和地點，在特殊業務的情況下，該業務的一般性質。\n",
      "--------------------------------------------------------------------------------\n",
      "Source   : in addition , we can not assure you that others will not obtain knowledge of these trade secrets through independent development or other legal means .\n",
      "Translate: 此外，我們無法向閣下保證其他人士不會透過獨立發展或其他法律方式取得該等商業機密的認識。\n",
      "Reference: 此外，我們無法向閣下保證他人不會透過自主開發或以其他合法途徑獲悉該等商業機密。\n",
      "Google   : 此外，我們不能向你保證，其他人不會通過獨立發展或其他法律手段獲得這些商業秘密的知識。\n",
      "--------------------------------------------------------------------------------\n"
     ]
    }
   ],
   "source": [
    "g_ids = [11, 502, 200, 102, 208, 13, 800]\n",
    "source = load_data('./data/test.src', g_ids)\n",
    "target = load_data('./data/large_test_120000.de', g_ids)\n",
    "reference = load_data('./data/test.trg', g_ids)\n",
    "google = ['本公司於最近實際可行日期無債務證券。',\n",
    "'此外，還發布了2009年8月加強施工用地管理和促進利用未經批准使用的通知，重申了現行的閒置用地規定。',\n",
    "'該通知必須指明會議的時間和地點，在特殊業務的情況下，該業務的一般性質。',\n",
    "'此外，我們不能向你保證，其他人不會通過獨立發展或其他法律手段獲得這些商業秘密的知識。',\n",
    "'行使其根據公司章程賦予的其他權利。',\n",
    "'截至最近切實可行日期，日本法定股本為億萬股，分為200股。',\n",
    "'關於是否行使購買新業務機會的選擇權的決定將由獨立非執行董事作出，以確保該決定適當考慮到獨立股東的利益。']\n",
    "\n",
    "len_per_slide = 4\n",
    "source1 = source[:len_per_slide]\n",
    "target1 = target[:len_per_slide]\n",
    "reference1 = reference[:len_per_slide]\n",
    "google1 = google[:len_per_slide]\n",
    "\n",
    "#print('-'*100)\n",
    "for src, tgt, ref, gl in zip(source1, target1, reference1, google1):\n",
    "    print('Source   : {}\\nTranslate: {}\\nReference: {}\\nGoogle   : {}'.format(src.replace('@@ ', ''), tgt.replace('@@ ', '').replace(' ', ''), ref.replace('@@ ', '').replace(' ', ''), gl))\n",
    "    print('-'*width)"
   ]
  },
  {
   "cell_type": "code",
   "execution_count": 5,
   "metadata": {
    "slideshow": {
     "slide_type": "subslide"
    }
   },
   "outputs": [
    {
     "name": "stdout",
     "output_type": "stream",
     "text": [
      "Source   : our company has no outstanding convertible debt securities as of the latest practicable date .\n",
      "Translate: 及行使組織章程細則賦予彼等的其他權利。\n",
      "Reference: 及行使組織章程細則賦予彼等的其他權利。\n",
      "Google   : 行使其根據公司章程賦予的其他權利。\n",
      "--------------------------------------------------------------------------------\n",
      "Source   : furthermore , mlr issued the notice on strengthening administration of construction land and promoting the utilisation of approved land without utilisation in august 2009 , which reiterates the current rules regarding idle land .\n",
      "Translate: 於最後實際可行日期，HHGraceJapan的法定股本為10,000,000日圓，分為200股股份。\n",
      "Reference: 於最後實際可行日期，HHGraceJapan的法定股本為10,000,000日圓，分為200股股份。\n",
      "Google   : 截至最近切實可行日期，日本法定股本為億萬股，分為200股。\n",
      "--------------------------------------------------------------------------------\n",
      "Source   : the notice must specify the time and place of the meeting and , in the case of special business , the general nature of that business .\n",
      "Translate: 是否行使選擇權或不能收購新業務機會選擇權將由獨立非執行董事作出，以確保就獨立股東的利益作出適當考慮。\n",
      "Reference: 是否行使接納新業務機會選擇權的決定將由獨立非執行董事作出，以確保該決定將充分考慮我們獨立股東的利益。\n",
      "Google   : 關於是否行使購買新業務機會的選擇權的決定將由獨立非執行董事作出，以確保該決定適當考慮到獨立股東的利益。\n",
      "--------------------------------------------------------------------------------\n"
     ]
    }
   ],
   "source": [
    "source2 = source[len_per_slide:]\n",
    "target1 = target[len_per_slide:]\n",
    "reference1 = reference[len_per_slide:]\n",
    "google1 = google[len_per_slide:]\n",
    "\n",
    "#print('-'*100)\n",
    "for src, tgt, ref, gl in zip(source1, target1, reference1, google1):\n",
    "    print('Source   : {}\\nTranslate: {}\\nReference: {}\\nGoogle   : {}'.format(src.replace('@@ ', ''), tgt.replace('@@ ', '').replace(' ', ''), ref.replace('@@ ', '').replace(' ', ''), gl))\n",
    "    print('-'*width)"
   ]
  },
  {
   "cell_type": "markdown",
   "metadata": {
    "slideshow": {
     "slide_type": "slide"
    }
   },
   "source": [
    "# Some existing problems\n",
    "* <font color='blue'> Polluted data </font>\n",
    "    * unwanted symbols\n",
    "    * unpaired sentences\n",
    "* <font color='blue'> Longer sentences </font>\n",
    "    * insufficient translation"
   ]
  },
  {
   "cell_type": "code",
   "execution_count": 16,
   "metadata": {
    "hideCode": false,
    "hidePrompt": false,
    "slideshow": {
     "slide_type": "subslide"
    }
   },
   "outputs": [
    {
     "name": "stdout",
     "output_type": "stream",
     "text": [
      "Source   : pursuant to the reorganisation , on 30 march 2011 teel transferred its share in peil to teebvil for a consideration of hk $ 1 .\n",
      "Translate: 根據重組，二零一一年三月三十日，TEEL以代價1。\n",
      "Reference: 根據重組，於二零一一年三月三十日，TEEL以代價1。\n",
      "Google   : 根據重組，2011年3月30日，Teel將其份額轉讓給teebvil，代價為1港幣。\n",
      "------------------------------------------------------------\n",
      "Source   : at the time of the prc &apos; s accession to the new york convention , the standing committee declared that .\n",
      "Translate: 在中國加入《紐約公約》的同時，全國人大常委會宣佈。\n",
      "Reference: 常務委員會於中國加入紐約公約時同時宣稱。\n",
      "Google   : 在中華人民共和國的時候 常務委員會宣布，加入紐約公約。\n",
      "------------------------------------------------------------\n",
      "Source   : our directors will , after taking into consideration the profitability , risks and business strategies of the new business opportunity , and whether such opportunity is in the best interest of our group as a whole , determine if we shall exercise such pre-emptive rights .\n",
      "Translate: 經考慮我們是否行使該優先受讓權。\n",
      "Reference: 董事將根據新商業機會的盈利能力、風險及業務戰略以及該機會是否符合本集團的整體最佳利益後，審核決定是否行使該優先受讓權。\n",
      "Google   : 我們的董事在考慮到新業務機會的盈利能力，風險和業務策略後，會否考慮到這樣的機會是否符合我們集團整體的最佳利益，決定是否行使先發製人的權利。\n",
      "------------------------------------------------------------\n"
     ]
    }
   ],
   "source": [
    "b_ids = [209, 509, 608]\n",
    "source = load_data('./data/test.src', b_ids)\n",
    "target = load_data('./data/large_test_120000.de', b_ids)\n",
    "reference = load_data('./data/test.trg', b_ids)\n",
    "google = ['根據重組，2011年3月30日，Teel將其份額轉讓給teebvil，代價為1港幣。',\n",
    "'在中華人民共和國的時候 常務委員會宣布，加入紐約公約。',\n",
    "'我們的董事在考慮到新業務機會的盈利能力，風險和業務策略後，會否考慮到這樣的機會是否符合我們集團整體的最佳利益，決定是否行使先發製人的權利。']\n",
    "\n",
    "#print('-'*100)\n",
    "for src, tgt, ref, gl in zip(source, target, reference, google):\n",
    "    print('Source   : {}\\nTranslate: {}\\nReference: {}\\nGoogle   : {}'.format(src.replace('@@ ', ''), tgt.replace('@@ ', '').replace(' ', ''), ref.replace('@@ ', '').replace(' ', ''), gl))\n",
    "    print('-'*width)\n"
   ]
  },
  {
   "cell_type": "code",
   "execution_count": 9,
   "metadata": {
    "hidePrompt": false,
    "scrolled": true,
    "slideshow": {
     "slide_type": "skip"
    }
   },
   "outputs": [
    {
     "name": "stdout",
     "output_type": "stream",
     "text": [
      "pursuant to the reorganisation , on 30 march 2011 teel transferred its share in peil to teebvil for a consideration of hk $ 1 .\n",
      "at the time of the prc &apos; s accession to the new york convention , the standing committee declared that .\n",
      "our directors will , after taking into consideration the profitability , risks and business strategies of the new business opportunity , and whether such opportunity is in the best interest of our group as a whole , determine if we shall exercise such pre-emptive rights .\n"
     ]
    }
   ],
   "source": [
    "for src in source:\n",
    "    print('{}'.format(src.replace('@@ ', '').replace('\\n', '')))"
   ]
  },
  {
   "cell_type": "markdown",
   "metadata": {
    "slideshow": {
     "slide_type": "slide"
    }
   },
   "source": [
    "# Our plan\n",
    "* Data collection & processing\n",
    "    * More data: Annual report from HKEX; Non-IPO documents\n",
    "    * Data cleaning, etc\n",
    "    * Difficulty in processing Alpha data. Advices?\n",
    "* Model improvement\n",
    "    * New ideas\n",
    "    * Training tricks\n",
    "* Interface\n",
    "    * Features"
   ]
  },
  {
   "cell_type": "markdown",
   "metadata": {
    "slideshow": {
     "slide_type": "slide"
    }
   },
   "source": [
    "# More examples"
   ]
  },
  {
   "cell_type": "code",
   "execution_count": 29,
   "metadata": {
    "hideCode": false,
    "hidePrompt": false,
    "slideshow": {
     "slide_type": "subslide"
    }
   },
   "outputs": [
    {
     "name": "stdout",
     "output_type": "stream",
     "text": [
      "Source 10: under the arrangements currently in force , the aggregate emoluments payable by our group to and benefits in kind receivable by our directors for the year ending 31 december 2013 are expected to be approximately rmb3,204,000 .\n",
      "Translate: 根據現行安排，截至二零一三年十二月三十一日止年度，本集團應付酬金及董事應收實物利益總額預期約為人民幣3,204,000元。\n",
      "Reference: 根據現行安排，截至2013年12月31日止年度，本集團應付董事的薪酬總額及上述董事應收的實物利益預期約為人民幣3,204,000元。\n",
      "------------------------------------------------------------\n",
      "Source 11: our company has no outstanding convertible debt securities as of the latest practicable date .\n",
      "Translate: 截至最後實際可行日期，本公司並無已發行的可換股債務證券。\n",
      "Reference: 截至最後實際可行日期，本公司並無任何尚未行使的可換股債務證券。\n",
      "------------------------------------------------------------\n",
      "Source 12: the difference between the accumulated global installed wind power capacity for any two consecutive years is not equal to the newly installed global wind power capacity for the more recent of the same two years because some of the already installed wtgs were decommissioned .\n",
      "Translate: 因部分已安裝裝機容量停牌，累計風電裝機容量與最近兩年的累計風電裝機容量與其他兩個年度有所不同。\n",
      "Reference: 任何連續兩年世界累計風電裝機容量之間的差額並不等於該兩年的較近期的世界新增風電裝機容量，原因是部分已安裝的風力發電機組退役停用。\n",
      "------------------------------------------------------------\n",
      "Source 13: furthermore , mlr issued the notice on strengthening administration of construction land and promoting the utilisation of approved land without utilisation in august 2009 , which reiterates the current rules regarding idle land .\n",
      "Translate: 此外，國土資源部於二零零九年八月發佈《關於加強建設用地管理有關問題的通知》，通知重申閒置土地的現行規則。\n",
      "Reference: 此外，國土資源部於2009年8月發出《關於嚴格建設用地管理促進批而未用土地利用的通知》，重申了對閒置土地的現行規則。\n",
      "------------------------------------------------------------\n",
      "Source 14: as at the latest practicable date , the group has obtained all material intellectual property rights for its operations and is the registered proprietor and beneficial owner of the following material trademarks .\n",
      "Translate: 於最後實際可行日期，本集團已就其經營取得所有重要的知識產權，並為以下重要商標的註冊所有人及實益擁有人。\n",
      "Reference: 於最後可行日期，本集團已取得其營運所需的一切重大知識產權，並為下列重大商標的註冊擁有人及實益擁有人。\n",
      "------------------------------------------------------------\n"
     ]
    }
   ],
   "source": [
    "\n",
    "begin = 10\n",
    "num_sent = 5\n",
    "ids = [begin, begin+num_sent]\n",
    "source = load_data('./data/test.src', ids)\n",
    "target = load_data('./data/test.trg', ids)\n",
    "decode = load_data('./data/large_test_120000.de', ids)\n",
    "\n",
    "#for i in range(num_sent-10):\n",
    "#    print(source[i].replace('@@', ''))\n",
    "\n",
    "\n",
    "for i in range(len(source)):\n",
    "    print('Source {}: {}'.format(begin+i, source[i].replace('@@ ', '')))\n",
    "    print('Translate: {}'.format(decode[i].replace('@@ ', '').replace(' ', '')))\n",
    "    print('Reference: {}'.format(target[i].replace('@@ ', '').replace(' ', '')))\n",
    "    print('-'*width)"
   ]
  }
 ],
 "metadata": {
  "celltoolbar": "Slideshow",
  "kernelspec": {
   "display_name": "Python 3",
   "language": "python",
   "name": "python3"
  },
  "language_info": {
   "codemirror_mode": {
    "name": "ipython",
    "version": 3
   },
   "file_extension": ".py",
   "mimetype": "text/x-python",
   "name": "python",
   "nbconvert_exporter": "python",
   "pygments_lexer": "ipython3",
   "version": "3.6.1"
  }
 },
 "nbformat": 4,
 "nbformat_minor": 2
}
